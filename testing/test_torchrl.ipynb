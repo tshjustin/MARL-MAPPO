{
 "cells": [
  {
   "cell_type": "markdown",
   "id": "7f0e6e5e",
   "metadata": {},
   "source": [
    "This notebook is to test Torch RL functions to make reward, action etc tracking easier "
   ]
  },
  {
   "cell_type": "code",
   "execution_count": 5,
   "id": "4d1b6a9f",
   "metadata": {},
   "outputs": [],
   "source": [
    "from torchrl.envs import TransformedEnv, PettingZooWrapper\n",
    "from torchrl.envs.transforms import RewardSum, Compose, DoubleToFloat\n",
    "from til_environment import gridworld\n",
    "from til_environment.types import RewardNames\n",
    "import torch\n"
   ]
  },
  {
   "cell_type": "code",
   "execution_count": null,
   "id": "edc041cf",
   "metadata": {},
   "outputs": [],
   "source": []
  },
  {
   "cell_type": "code",
   "execution_count": null,
   "id": "12eb34f3",
   "metadata": {},
   "outputs": [],
   "source": []
  }
 ],
 "metadata": {
  "kernelspec": {
   "display_name": "til",
   "language": "python",
   "name": "python3"
  },
  "language_info": {
   "codemirror_mode": {
    "name": "ipython",
    "version": 3
   },
   "file_extension": ".py",
   "mimetype": "text/x-python",
   "name": "python",
   "nbconvert_exporter": "python",
   "pygments_lexer": "ipython3",
   "version": "3.12.9"
  }
 },
 "nbformat": 4,
 "nbformat_minor": 5
}
